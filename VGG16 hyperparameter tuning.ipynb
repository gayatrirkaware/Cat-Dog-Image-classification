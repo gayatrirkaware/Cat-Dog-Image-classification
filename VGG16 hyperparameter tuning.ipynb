{
 "cells": [
  {
   "cell_type": "code",
   "execution_count": 16,
   "id": "dd77c603-4c20-4771-a240-0ec9d2406f30",
   "metadata": {},
   "outputs": [],
   "source": [
    "import tensorflow as tf\n",
    "from tensorflow.keras.applications import VGG16\n",
    "from tensorflow.keras.models import Sequential\n",
    "from tensorflow.keras.layers import Dense, Dropout, GlobalAveragePooling2D\n",
    "from tensorflow.keras.preprocessing.image import ImageDataGenerator\n",
    "from tensorflow.keras import regularizers\n",
    "from tensorflow.keras.callbacks import EarlyStopping\n",
    "import keras_tuner as kt\n",
    "import os\n",
    "\n",
    "import warnings\n",
    "warnings.filterwarnings('ignore')"
   ]
  },
  {
   "cell_type": "markdown",
   "id": "0dabe8e2-2f91-4de4-929e-788e8b7befff",
   "metadata": {},
   "source": [
    "### Data preprocessing"
   ]
  },
  {
   "cell_type": "code",
   "execution_count": 17,
   "id": "efe59dc4-4bd5-48a1-bb6c-b02d59552e1c",
   "metadata": {},
   "outputs": [],
   "source": [
    "\n",
    "image_size = (224, 224)\n",
    "batch_size = 32"
   ]
  },
  {
   "cell_type": "code",
   "execution_count": 18,
   "id": "7741f590-1b3c-4a89-b37b-cba12c22f3cd",
   "metadata": {},
   "outputs": [],
   "source": [
    "datagen = ImageDataGenerator(\n",
    "    rescale=1./255,\n",
    "    validation_split=0.2,\n",
    "    rotation_range=30,\n",
    "    zoom_range=0.2,\n",
    "    horizontal_flip=True,\n",
    "    width_shift_range=0.1,\n",
    "    height_shift_range=0.1\n",
    ")"
   ]
  },
  {
   "cell_type": "code",
   "execution_count": 19,
   "id": "7495f090-4462-46e3-a591-708b9cebec60",
   "metadata": {},
   "outputs": [
    {
     "name": "stdout",
     "output_type": "stream",
     "text": [
      "Found 160 images belonging to 2 classes.\n"
     ]
    }
   ],
   "source": [
    "train_generator = datagen.flow_from_directory(\n",
    "    \"data/\",\n",
    "    target_size=image_size,\n",
    "    batch_size=batch_size,\n",
    "    class_mode=\"binary\",\n",
    "    subset=\"training\"\n",
    ")"
   ]
  },
  {
   "cell_type": "code",
   "execution_count": 20,
   "id": "bf824444-05d8-4d99-a69a-b52cfb512bcc",
   "metadata": {},
   "outputs": [
    {
     "name": "stdout",
     "output_type": "stream",
     "text": [
      "Found 40 images belonging to 2 classes.\n"
     ]
    }
   ],
   "source": [
    "val_generator = datagen.flow_from_directory(\n",
    "    \"data/\",\n",
    "    target_size=image_size,\n",
    "    batch_size=batch_size,\n",
    "    class_mode=\"binary\",\n",
    "    subset=\"validation\"\n",
    ")"
   ]
  },
  {
   "cell_type": "markdown",
   "id": "ba970bde-b376-4467-945f-cba09778ecc1",
   "metadata": {},
   "source": [
    "### Hypermodel function"
   ]
  },
  {
   "cell_type": "code",
   "execution_count": 21,
   "id": "54d8cffb-1465-43d8-acae-6a8bea90e85e",
   "metadata": {},
   "outputs": [],
   "source": [
    "def build_cnn_model(hp):\n",
    "    \n",
    "    base_model = VGG16(include_top=False, weights='imagenet', input_shape=image_size + (3,))\n",
    "    base_model.trainable = False  # Transfer learning\n",
    "\n",
    "    model = Sequential()\n",
    "    model.add(base_model)\n",
    "    model.add(GlobalAveragePooling2D())\n",
    "\n",
    "    # Hidden Dense Layer\n",
    "    units = hp.Int(\"units\", min_value=64, max_value=256, step=32)\n",
    "    model.add(Dense(units=units,\n",
    "                    activation=hp.Choice(\"activation\", ['relu', 'tanh']),\n",
    "                    kernel_initializer=hp.Choice(\"initializer\", ['glorot_uniform', 'he_normal']),\n",
    "                    kernel_regularizer=regularizers.l2(hp.Float(\"lambda\", 1e-4, 1e-2, sampling='log'))))\n",
    "\n",
    "    model.add(Dropout(hp.Float(\"dropout\", 0.2, 0.5, step=0.1)))\n",
    "\n",
    "    # Output Layer\n",
    "    model.add(Dense(1, activation='sigmoid'))\n",
    "\n",
    "    # Optimizer\n",
    "    learning_rate = hp.Float(\"learning_rate\", 1e-4, 1e-2, sampling='log')\n",
    "    optimizer_choice = hp.Choice(\"optimizer\", ['adam', 'sgd', 'rmsprop'])\n",
    "\n",
    "    if optimizer_choice == 'adam':\n",
    "        optimizer = tf.keras.optimizers.Adam(learning_rate)\n",
    "    elif optimizer_choice == 'sgd':\n",
    "        optimizer = tf.keras.optimizers.SGD(learning_rate)\n",
    "    else:\n",
    "        optimizer = tf.keras.optimizers.RMSprop(learning_rate)\n",
    "\n",
    "    model.compile(optimizer=optimizer,\n",
    "                  loss='binary_crossentropy',\n",
    "                  metrics=['accuracy'])\n",
    "    return model"
   ]
  },
  {
   "cell_type": "markdown",
   "id": "67e16292-e091-4dbe-bc3f-a8c43846d3b5",
   "metadata": {},
   "source": [
    "### Tuner setup"
   ]
  },
  {
   "cell_type": "code",
   "execution_count": 22,
   "id": "8250668d-1821-4b57-b3ba-e200757a0ebb",
   "metadata": {},
   "outputs": [],
   "source": [
    "tuner = kt.RandomSearch(\n",
    "    build_cnn_model,\n",
    "    objective='val_loss',\n",
    "    max_trials=10,\n",
    "    executions_per_trial=1,\n",
    "    directory='cnn_tuning',\n",
    "    project_name='VGG16_binary'\n",
    ")"
   ]
  },
  {
   "cell_type": "markdown",
   "id": "a1b163d2-23cf-4bc3-a354-4d30478d0be4",
   "metadata": {},
   "source": [
    "### Early stopping"
   ]
  },
  {
   "cell_type": "code",
   "execution_count": 23,
   "id": "8d3f826e-3626-49ca-bf90-44a5c423c936",
   "metadata": {},
   "outputs": [],
   "source": [
    "early_stop = EarlyStopping(monitor='val_loss', patience=5)"
   ]
  },
  {
   "cell_type": "markdown",
   "id": "0892eeba-f13a-49ad-bba5-501125bc24c6",
   "metadata": {},
   "source": [
    "### Tuner search"
   ]
  },
  {
   "cell_type": "code",
   "execution_count": 24,
   "id": "f3aac3e8-3b98-43c9-8154-e290baf0ca2b",
   "metadata": {},
   "outputs": [
    {
     "name": "stdout",
     "output_type": "stream",
     "text": [
      "Trial 10 Complete [00h 08m 18s]\n",
      "val_loss: 0.5302904844284058\n",
      "\n",
      "Best val_loss So Far: 0.5302904844284058\n",
      "Total elapsed time: 02h 15m 27s\n"
     ]
    }
   ],
   "source": [
    "tuner.search(\n",
    "    train_generator,\n",
    "    validation_data=val_generator,\n",
    "    epochs=10,\n",
    "    callbacks=[early_stop],\n",
    "    verbose=2\n",
    ")"
   ]
  },
  {
   "cell_type": "markdown",
   "id": "60ba0d09-0211-45c0-9d39-ee7d929325e2",
   "metadata": {},
   "source": [
    "### Get best model and hyperparameters"
   ]
  },
  {
   "cell_type": "code",
   "execution_count": 25,
   "id": "ae3876bb-1173-4de7-9b75-125e2f55e481",
   "metadata": {},
   "outputs": [],
   "source": [
    "best_model = tuner.get_best_models(1)[0]\n",
    "best_hyperparams = tuner.get_best_hyperparameters(1)[0]"
   ]
  },
  {
   "cell_type": "code",
   "execution_count": 26,
   "id": "d3ba2884-d1ce-422b-8f44-2cbd2542664c",
   "metadata": {},
   "outputs": [
    {
     "name": "stdout",
     "output_type": "stream",
     "text": [
      "\n",
      "Best Hyperparameters:\n",
      "{'units': 224, 'activation': 'tanh', 'initializer': 'glorot_uniform', 'lambda': 0.0001999433153242281, 'dropout': 0.2, 'learning_rate': 0.007522684510012844, 'optimizer': 'rmsprop'}\n"
     ]
    }
   ],
   "source": [
    "print(\"\\nBest Hyperparameters:\")\n",
    "print(best_hyperparams.values)"
   ]
  },
  {
   "cell_type": "code",
   "execution_count": 27,
   "id": "4128132a-f3aa-4b03-ab53-7fa3f1251e28",
   "metadata": {},
   "outputs": [
    {
     "name": "stderr",
     "output_type": "stream",
     "text": [
      "WARNING:absl:You are saving your model as an HDF5 file via `model.save()` or `keras.saving.save_model(model)`. This file format is considered legacy. We recommend using instead the native Keras format, e.g. `model.save('my_model.keras')` or `keras.saving.save_model(model, 'my_model.keras')`. \n"
     ]
    }
   ],
   "source": [
    "# Save best model\n",
    "os.makedirs(\"model\", exist_ok=True)\n",
    "best_model.save(\"model/VGG16_best_tuned_model.h5\")"
   ]
  },
  {
   "cell_type": "code",
   "execution_count": null,
   "id": "ac205275-a887-47c7-82a3-9deaa0b7d2fc",
   "metadata": {},
   "outputs": [],
   "source": []
  },
  {
   "cell_type": "markdown",
   "id": "c6cdb8ad-1be0-4b67-a2be-f308dfa18d0f",
   "metadata": {},
   "source": [
    "### Evaluate Accuracy on Validation/Test Data"
   ]
  },
  {
   "cell_type": "code",
   "execution_count": 28,
   "id": "1431333d-9f7e-4e2c-87a6-2b4aa076309c",
   "metadata": {},
   "outputs": [
    {
     "name": "stdout",
     "output_type": "stream",
     "text": [
      "\u001b[1m2/2\u001b[0m \u001b[32m━━━━━━━━━━━━━━━━━━━━\u001b[0m\u001b[37m\u001b[0m \u001b[1m10s\u001b[0m 2s/step - accuracy: 0.8313 - loss: 0.5215\n",
      "Validation Accuracy: 82.50%\n",
      "Validation Loss: 0.5253\n"
     ]
    }
   ],
   "source": [
    "# Evaluate model on validation data\n",
    "val_loss, val_accuracy = best_model.evaluate(val_generator, verbose=1)\n",
    "\n",
    "print(f\"Validation Accuracy: {val_accuracy * 100:.2f}%\")\n",
    "print(f\"Validation Loss: {val_loss:.4f}\")\n"
   ]
  },
  {
   "cell_type": "code",
   "execution_count": null,
   "id": "5aa03dd3-fd47-4949-96c4-4dfc3185e36a",
   "metadata": {},
   "outputs": [],
   "source": []
  }
 ],
 "metadata": {
  "kernelspec": {
   "display_name": "Python 3 (ipykernel)",
   "language": "python",
   "name": "python3"
  },
  "language_info": {
   "codemirror_mode": {
    "name": "ipython",
    "version": 3
   },
   "file_extension": ".py",
   "mimetype": "text/x-python",
   "name": "python",
   "nbconvert_exporter": "python",
   "pygments_lexer": "ipython3",
   "version": "3.12.10"
  }
 },
 "nbformat": 4,
 "nbformat_minor": 5
}
